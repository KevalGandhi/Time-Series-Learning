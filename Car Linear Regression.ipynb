{
 "cells": [
  {
   "cell_type": "code",
   "execution_count": 2,
   "id": "a0282285-ab47-45ee-8ec2-2ba40bf549ca",
   "metadata": {},
   "outputs": [],
   "source": [
    "import numpy as np \n",
    "import pandas as pd\n",
    "import seaborn as sns\n",
    "\n",
    "import matplotlib.pyplot as plt\n",
    "\n",
    "from sklearn.linear_model import LinearRegression"
   ]
  },
  {
   "cell_type": "code",
   "execution_count": 38,
   "id": "303650b8-6961-4750-b5ce-203517d6751f",
   "metadata": {},
   "outputs": [
    {
     "data": {
      "text/plain": [
       "Index(['ID', 'symboling', 'wheelbase', 'carlength', 'carwidth', 'carheight',\n",
       "       'curbweight', 'enginesize', 'boreratio', 'stroke', 'compressionratio',\n",
       "       'horsepower', 'peakrpm', 'citympg', 'highwaympg', 'price'],\n",
       "      dtype='object')"
      ]
     },
     "execution_count": 38,
     "metadata": {},
     "output_type": "execute_result"
    }
   ],
   "source": [
    "car = pd.read_csv('scrap price.csv')\n",
    "\n",
    "car.stroke\n",
    "\n",
    "car.select_dtypes(include = [float, int]).columns"
   ]
  },
  {
   "cell_type": "code",
   "execution_count": 30,
   "id": "14ae445d-469d-42b7-83f6-50b12d6e5b2c",
   "metadata": {},
   "outputs": [
    {
     "name": "stdout",
     "output_type": "stream",
     "text": [
      "[[ 3.62617824e+01  6.49751887e+01  1.02716150e+01  8.67314419e+00\n",
      "   2.43429675e+03  1.42766545e+02  7.97131516e-01  3.03956815e-01\n",
      "   5.97456165e+00  8.41286370e+01 -1.03537458e+03 -1.85320899e+01\n",
      "  -2.25623242e+01  2.77970193e+04]\n",
      " [ 6.49751887e+01  1.52208688e+02  2.22610352e+01  1.48027879e+01\n",
      "   5.63833620e+03  3.51081549e+02  2.02645325e+00  5.01153491e-01\n",
      "   7.76293814e+00  2.69606949e+02 -1.69033692e+03 -5.41505739e+01\n",
      "  -5.98680751e+01  6.73091268e+04]\n",
      " [ 1.02716150e+01  2.22610352e+01  4.60189957e+00  1.46357939e+00\n",
      "   9.68445072e+02  6.56977857e+01  3.24874462e-01  1.23070277e-01\n",
      "   1.54336736e+00  5.43534935e+01 -2.25123505e+02 -9.01985892e+00\n",
      "  -1.00044213e+01  1.30131019e+04]\n",
      " [ 8.67314419e+00  1.48027879e+01  1.46357939e+00  5.97079962e+00\n",
      "   3.76053991e+02  6.83270923e+00  1.13216882e-01 -4.23804639e-02\n",
      "   2.53528462e+00 -1.05132209e+01 -3.73446676e+02 -7.77546628e-01\n",
      "  -1.80652559e+00  2.32955486e+03]\n",
      " [ 2.43429675e+03  5.63833620e+03  9.68445072e+02  3.76053991e+02\n",
      "   2.71107874e+05  1.84430282e+04  9.14505308e+01  2.75606711e+01\n",
      "   3.13040714e+02  1.54576197e+04 -6.61233537e+04 -2.58002678e+03\n",
      "  -2.85941736e+03  3.47456530e+06]\n",
      " [ 1.42766545e+02  3.51081549e+02  6.56977857e+01  6.83270923e+00\n",
      "   1.84430282e+04  1.73411392e+03  6.58419297e+00  2.65266117e+00\n",
      "   4.79204998e+00  1.33346679e+03 -4.85967001e+03 -1.78077594e+02\n",
      "  -1.94278073e+02  2.90808158e+05]\n",
      " [ 7.97131516e-01  2.02645325e+00  3.24874462e-01  1.13216882e-01\n",
      "   9.14505308e+01  6.58419297e+00  7.33563128e-02 -4.74867288e-03\n",
      "   5.59130799e-03  6.14424438e+00 -3.29399211e+01 -1.03573051e+00\n",
      "  -1.09486490e+00  1.19691773e+03]\n",
      " [ 3.03956815e-01  5.01153491e-01  1.23070277e-01 -4.23804639e-02\n",
      "   2.75606711e+01  2.65266117e+00 -4.74867288e-03  9.83430870e-02\n",
      "   2.31822473e-01  1.00372573e+00 -1.01661047e+01 -8.64640124e-02\n",
      "  -9.48718317e-02  1.99027188e+02]\n",
      " [ 5.97456165e+00  7.76293814e+00  1.54336736e+00  2.53528462e+00\n",
      "   3.13040714e+02  4.79204998e+00  5.59130799e-03  2.31822473e-01\n",
      "   1.57771043e+01 -3.20937298e+01 -8.25556683e+02  8.43757771e+00\n",
      "   7.25411454e+00  2.15725557e+03]\n",
      " [ 8.41286370e+01  2.69606949e+02  5.43534935e+01 -1.05132209e+01\n",
      "   1.54576197e+04  1.33346679e+03  6.14424438e+00  1.00372573e+00\n",
      "  -3.20937298e+01  1.56374113e+03  2.47228957e+03 -2.07339550e+02\n",
      "  -2.09833477e+02  2.55301163e+05]\n",
      " [-1.03537458e+03 -1.69033692e+03 -2.25123505e+02 -3.73446676e+02\n",
      "  -6.61233537e+04 -4.85967001e+03 -3.29399211e+01 -1.01661047e+01\n",
      "  -8.25556683e+02  2.47228957e+03  2.27515304e+05 -3.54316117e+02\n",
      "  -1.78278336e+02 -3.24916263e+05]\n",
      " [-1.85320899e+01 -5.41505739e+01 -9.01985892e+00 -7.77546628e-01\n",
      "  -2.58002678e+03 -1.78077594e+02 -1.03573051e+00 -8.64640124e-02\n",
      "   8.43757771e+00 -2.07339550e+02 -3.54316117e+02  4.27996174e+01\n",
      "   4.37607604e+01 -3.58402474e+04]\n",
      " [-2.25623242e+01 -5.98680751e+01 -1.00044213e+01 -1.80652559e+00\n",
      "  -2.85941736e+03 -1.94278073e+02 -1.09486490e+00 -9.48718317e-02\n",
      "   7.25411454e+00 -2.09833477e+02 -1.78278336e+02  4.37607604e+01\n",
      "   4.74230990e+01 -3.83782586e+04]\n",
      " [ 2.77970193e+04  6.73091268e+04  1.30131019e+04  2.32955486e+03\n",
      "   3.47456530e+06  2.90808158e+05  1.19691773e+03  1.99027188e+02\n",
      "   2.15725557e+03  2.55301163e+05 -3.24916263e+05 -3.58402474e+04\n",
      "  -3.83782586e+04  6.38217616e+07]]\n"
     ]
    }
   ],
   "source": [
    "numfactors = []\n",
    "\n",
    "for i in ['wheelbase', 'carlength',\n",
    "       'carwidth', 'carheight', 'curbweight',\n",
    "       'enginesize', 'boreratio', 'stroke', 'compressionratio',\n",
    "       'horsepower', 'peakrpm', 'citympg', 'highwaympg', 'price']:\n",
    "    car[i] = car[i].astype(float)\n",
    "    numfactors.append(car[i])\n",
    "\n",
    "cov = np.cov(numfactors)\n",
    "print(cov)"
   ]
  },
  {
   "cell_type": "code",
   "execution_count": 34,
   "id": "9a96e341-13af-4aec-9fdd-a991eae5fc17",
   "metadata": {},
   "outputs": [
    {
     "ename": "ValueError",
     "evalue": "could not convert string to float: 'alfa-romero giulia'",
     "output_type": "error",
     "traceback": [
      "\u001b[1;31m---------------------------------------------------------------------------\u001b[0m",
      "\u001b[1;31mValueError\u001b[0m                                Traceback (most recent call last)",
      "Cell \u001b[1;32mIn[34], line 5\u001b[0m\n\u001b[0;32m      2\u001b[0m car \u001b[38;5;241m=\u001b[39m pd\u001b[38;5;241m.\u001b[39mget_dummies(data \u001b[38;5;241m=\u001b[39m car, columns \u001b[38;5;241m=\u001b[39m convertable_columns)\n\u001b[0;32m      4\u001b[0m plt\u001b[38;5;241m.\u001b[39mfigure(figsize\u001b[38;5;241m=\u001b[39m(\u001b[38;5;241m12\u001b[39m,\u001b[38;5;241m8\u001b[39m))\n\u001b[1;32m----> 5\u001b[0m corr \u001b[38;5;241m=\u001b[39m \u001b[43mcar\u001b[49m\u001b[38;5;241;43m.\u001b[39;49m\u001b[43mcorr\u001b[49m\u001b[43m(\u001b[49m\u001b[43m)\u001b[49m\n\u001b[0;32m      6\u001b[0m sns\u001b[38;5;241m.\u001b[39mheatmap(corr, annot\u001b[38;5;241m=\u001b[39m \u001b[38;5;28;01mTrue\u001b[39;00m, cmap \u001b[38;5;241m=\u001b[39m \u001b[38;5;124m'\u001b[39m\u001b[38;5;124mY1GnBu\u001b[39m\u001b[38;5;124m'\u001b[39m)\n",
      "File \u001b[1;32m~\\miniconda3\\lib\\site-packages\\pandas\\core\\frame.py:10054\u001b[0m, in \u001b[0;36mDataFrame.corr\u001b[1;34m(self, method, min_periods, numeric_only)\u001b[0m\n\u001b[0;32m  10052\u001b[0m cols \u001b[38;5;241m=\u001b[39m data\u001b[38;5;241m.\u001b[39mcolumns\n\u001b[0;32m  10053\u001b[0m idx \u001b[38;5;241m=\u001b[39m cols\u001b[38;5;241m.\u001b[39mcopy()\n\u001b[1;32m> 10054\u001b[0m mat \u001b[38;5;241m=\u001b[39m \u001b[43mdata\u001b[49m\u001b[38;5;241;43m.\u001b[39;49m\u001b[43mto_numpy\u001b[49m\u001b[43m(\u001b[49m\u001b[43mdtype\u001b[49m\u001b[38;5;241;43m=\u001b[39;49m\u001b[38;5;28;43mfloat\u001b[39;49m\u001b[43m,\u001b[49m\u001b[43m \u001b[49m\u001b[43mna_value\u001b[49m\u001b[38;5;241;43m=\u001b[39;49m\u001b[43mnp\u001b[49m\u001b[38;5;241;43m.\u001b[39;49m\u001b[43mnan\u001b[49m\u001b[43m,\u001b[49m\u001b[43m \u001b[49m\u001b[43mcopy\u001b[49m\u001b[38;5;241;43m=\u001b[39;49m\u001b[38;5;28;43;01mFalse\u001b[39;49;00m\u001b[43m)\u001b[49m\n\u001b[0;32m  10056\u001b[0m \u001b[38;5;28;01mif\u001b[39;00m method \u001b[38;5;241m==\u001b[39m \u001b[38;5;124m\"\u001b[39m\u001b[38;5;124mpearson\u001b[39m\u001b[38;5;124m\"\u001b[39m:\n\u001b[0;32m  10057\u001b[0m     correl \u001b[38;5;241m=\u001b[39m libalgos\u001b[38;5;241m.\u001b[39mnancorr(mat, minp\u001b[38;5;241m=\u001b[39mmin_periods)\n",
      "File \u001b[1;32m~\\miniconda3\\lib\\site-packages\\pandas\\core\\frame.py:1838\u001b[0m, in \u001b[0;36mDataFrame.to_numpy\u001b[1;34m(self, dtype, copy, na_value)\u001b[0m\n\u001b[0;32m   1836\u001b[0m \u001b[38;5;28;01mif\u001b[39;00m dtype \u001b[38;5;129;01mis\u001b[39;00m \u001b[38;5;129;01mnot\u001b[39;00m \u001b[38;5;28;01mNone\u001b[39;00m:\n\u001b[0;32m   1837\u001b[0m     dtype \u001b[38;5;241m=\u001b[39m np\u001b[38;5;241m.\u001b[39mdtype(dtype)\n\u001b[1;32m-> 1838\u001b[0m result \u001b[38;5;241m=\u001b[39m \u001b[38;5;28;43mself\u001b[39;49m\u001b[38;5;241;43m.\u001b[39;49m\u001b[43m_mgr\u001b[49m\u001b[38;5;241;43m.\u001b[39;49m\u001b[43mas_array\u001b[49m\u001b[43m(\u001b[49m\u001b[43mdtype\u001b[49m\u001b[38;5;241;43m=\u001b[39;49m\u001b[43mdtype\u001b[49m\u001b[43m,\u001b[49m\u001b[43m \u001b[49m\u001b[43mcopy\u001b[49m\u001b[38;5;241;43m=\u001b[39;49m\u001b[43mcopy\u001b[49m\u001b[43m,\u001b[49m\u001b[43m \u001b[49m\u001b[43mna_value\u001b[49m\u001b[38;5;241;43m=\u001b[39;49m\u001b[43mna_value\u001b[49m\u001b[43m)\u001b[49m\n\u001b[0;32m   1839\u001b[0m \u001b[38;5;28;01mif\u001b[39;00m result\u001b[38;5;241m.\u001b[39mdtype \u001b[38;5;129;01mis\u001b[39;00m \u001b[38;5;129;01mnot\u001b[39;00m dtype:\n\u001b[0;32m   1840\u001b[0m     result \u001b[38;5;241m=\u001b[39m np\u001b[38;5;241m.\u001b[39marray(result, dtype\u001b[38;5;241m=\u001b[39mdtype, copy\u001b[38;5;241m=\u001b[39m\u001b[38;5;28;01mFalse\u001b[39;00m)\n",
      "File \u001b[1;32m~\\miniconda3\\lib\\site-packages\\pandas\\core\\internals\\managers.py:1732\u001b[0m, in \u001b[0;36mBlockManager.as_array\u001b[1;34m(self, dtype, copy, na_value)\u001b[0m\n\u001b[0;32m   1730\u001b[0m         arr\u001b[38;5;241m.\u001b[39mflags\u001b[38;5;241m.\u001b[39mwriteable \u001b[38;5;241m=\u001b[39m \u001b[38;5;28;01mFalse\u001b[39;00m\n\u001b[0;32m   1731\u001b[0m \u001b[38;5;28;01melse\u001b[39;00m:\n\u001b[1;32m-> 1732\u001b[0m     arr \u001b[38;5;241m=\u001b[39m \u001b[38;5;28;43mself\u001b[39;49m\u001b[38;5;241;43m.\u001b[39;49m\u001b[43m_interleave\u001b[49m\u001b[43m(\u001b[49m\u001b[43mdtype\u001b[49m\u001b[38;5;241;43m=\u001b[39;49m\u001b[43mdtype\u001b[49m\u001b[43m,\u001b[49m\u001b[43m \u001b[49m\u001b[43mna_value\u001b[49m\u001b[38;5;241;43m=\u001b[39;49m\u001b[43mna_value\u001b[49m\u001b[43m)\u001b[49m\n\u001b[0;32m   1733\u001b[0m     \u001b[38;5;66;03m# The underlying data was copied within _interleave, so no need\u001b[39;00m\n\u001b[0;32m   1734\u001b[0m     \u001b[38;5;66;03m# to further copy if copy=True or setting na_value\u001b[39;00m\n\u001b[0;32m   1736\u001b[0m \u001b[38;5;28;01mif\u001b[39;00m na_value \u001b[38;5;129;01mis\u001b[39;00m \u001b[38;5;129;01mnot\u001b[39;00m lib\u001b[38;5;241m.\u001b[39mno_default:\n",
      "File \u001b[1;32m~\\miniconda3\\lib\\site-packages\\pandas\\core\\internals\\managers.py:1794\u001b[0m, in \u001b[0;36mBlockManager._interleave\u001b[1;34m(self, dtype, na_value)\u001b[0m\n\u001b[0;32m   1792\u001b[0m     \u001b[38;5;28;01melse\u001b[39;00m:\n\u001b[0;32m   1793\u001b[0m         arr \u001b[38;5;241m=\u001b[39m blk\u001b[38;5;241m.\u001b[39mget_values(dtype)\n\u001b[1;32m-> 1794\u001b[0m     result[rl\u001b[38;5;241m.\u001b[39mindexer] \u001b[38;5;241m=\u001b[39m arr\n\u001b[0;32m   1795\u001b[0m     itemmask[rl\u001b[38;5;241m.\u001b[39mindexer] \u001b[38;5;241m=\u001b[39m \u001b[38;5;241m1\u001b[39m\n\u001b[0;32m   1797\u001b[0m \u001b[38;5;28;01mif\u001b[39;00m \u001b[38;5;129;01mnot\u001b[39;00m itemmask\u001b[38;5;241m.\u001b[39mall():\n",
      "\u001b[1;31mValueError\u001b[0m: could not convert string to float: 'alfa-romero giulia'"
     ]
    },
    {
     "data": {
      "text/plain": [
       "<Figure size 1200x800 with 0 Axes>"
      ]
     },
     "metadata": {},
     "output_type": "display_data"
    }
   ],
   "source": [
    "convertable_columns = ['carbody', 'drivewheels', 'enginetype', 'fuelsystem']\n",
    "car = pd.get_dummies(data = car, columns = convertable_columns)\n",
    "\n",
    "plt.figure(figsize=(12,8))\n",
    "corr = car.corr()\n",
    "sns.heatmap(corr, annot= True, cmap = 'Y1GnBu')"
   ]
  },
  {
   "cell_type": "code",
   "execution_count": null,
   "id": "d30ba264-398b-4c04-a201-de259fc83abd",
   "metadata": {},
   "outputs": [],
   "source": []
  }
 ],
 "metadata": {
  "kernelspec": {
   "display_name": "Python 3 (ipykernel)",
   "language": "python",
   "name": "python3"
  },
  "language_info": {
   "codemirror_mode": {
    "name": "ipython",
    "version": 3
   },
   "file_extension": ".py",
   "mimetype": "text/x-python",
   "name": "python",
   "nbconvert_exporter": "python",
   "pygments_lexer": "ipython3",
   "version": "3.8.18"
  }
 },
 "nbformat": 4,
 "nbformat_minor": 5
}
